{
 "cells": [
  {
   "cell_type": "markdown",
   "metadata": {},
   "source": [
    "# Optional Lab: Linear Regression using Scikit-Learn"
   ]
  },
  {
   "cell_type": "markdown",
   "metadata": {},
   "source": [
    "There is an open-source, commercially usable machine learning toolkit called [scikit-learn](https://scikit-learn.org/stable/index.html). This toolkit contains implementations of many of the algorithms that you will work with in this course.\n",
    "\n"
   ]
  },
  {
   "cell_type": "markdown",
   "metadata": {},
   "source": [
    "## Goals\n",
    "In this lab you will:\n",
    "- Utilize  scikit-learn to implement linear regression using Gradient Descent"
   ]
  },
  {
   "cell_type": "markdown",
   "metadata": {},
   "source": [
    "## Tools\n",
    "You will utilize functions from scikit-learn as well as matplotlib and NumPy. "
   ]
  },
  {
   "cell_type": "code",
   "execution_count": 1,
   "metadata": {},
   "outputs": [],
   "source": [
    "import numpy as np\n",
    "import matplotlib.pyplot as plt\n",
    "\n",
    "# import linear model from sci-kit learn\n",
    "# SGD stands for Stochastic Gradient Descent\n",
    "from sklearn.linear_model import SGDRegressor\n",
    "\n",
    "# this used for feature scalling by computing the z score (x-mean)/sigma\n",
    "# also called as standard score, StandardScaler\n",
    "from sklearn.preprocessing import StandardScaler\n",
    "\n",
    "# this method will load the house dataset\n",
    "from lab_utils_multi import  load_house_data\n",
    "\n",
    "\n",
    "# this will import color dictionary\n",
    "from lab_utils_common import dlc\n",
    "\n",
    "# set the precision of numpy\n",
    "np.set_printoptions(precision=2)\n",
    "\n",
    "# choosing stylesheet for matplot\n",
    "plt.style.use('./deeplearning.mplstyle')"
   ]
  },
  {
   "cell_type": "markdown",
   "metadata": {},
   "source": [
    "# Gradient Descent\n",
    "Scikit-learn has a gradient descent regression model [sklearn.linear_model.SGDRegressor](https://scikit-learn.org/stable/modules/generated/sklearn.linear_model.SGDRegressor.html#examples-using-sklearn-linear-model-sgdregressor).  Like your previous implementation of gradient descent, this model performs best with normalized inputs. [sklearn.preprocessing.StandardScaler](https://scikit-learn.org/stable/modules/generated/sklearn.preprocessing.StandardScaler.html#sklearn.preprocessing.StandardScaler) will perform z-score normalization as in a previous lab. Here it is referred to as 'standard score'."
   ]
  },
  {
   "cell_type": "markdown",
   "metadata": {},
   "source": [
    "### Load the data set"
   ]
  },
  {
   "cell_type": "code",
   "execution_count": 2,
   "metadata": {},
   "outputs": [],
   "source": [
    "# this will load the dataset from the lab files\n",
    "X_train, y_train = load_house_data()\n",
    "\n",
    "# this will set the features names, for each column\n",
    "X_features = ['size(sqft)','bedrooms','floors','age']"
   ]
  },
  {
   "cell_type": "markdown",
   "metadata": {},
   "source": [
    "### Scale/normalize the training data"
   ]
  },
  {
   "cell_type": "code",
   "execution_count": 3,
   "metadata": {},
   "outputs": [
    {
     "name": "stdout",
     "output_type": "stream",
     "text": [
      "StandardScaler()\n",
      "Peak to Peak range by column in Raw        X:[2.41e+03 4.00e+00 1.00e+00 9.50e+01]\n",
      "Peak to Peak range by column in Normalized X:[5.85 6.14 2.06 3.69]\n"
     ]
    }
   ],
   "source": [
    "# creates a new instance of the z-score scaler\n",
    "scaler = StandardScaler()\n",
    "\n",
    "\n",
    "# this line will transform the dataset into a standardized data/ scaled dataset\n",
    "X_norm = scaler.fit_transform(X_train)\n",
    "\n",
    "# in the raw dataset the features can be seen as very large peek to peek (max-min)  (1.00e+00 -> 9.50e+01)\n",
    "print(f\"Peak to Peak range by column in Raw        X:{np.ptp(X_train,axis=0)}\")\n",
    "\n",
    "\n",
    "# in the normalized dataset the features can be seen as smaller peek to peek (max-min) (2 -> 6)\n",
    "print(f\"Peak to Peak range by column in Normalized X:{np.ptp(X_norm,axis=0)}\")"
   ]
  },
  {
   "cell_type": "markdown",
   "metadata": {},
   "source": [
    "### Create and fit the regression model"
   ]
  },
  {
   "cell_type": "code",
   "execution_count": 10,
   "metadata": {},
   "outputs": [
    {
     "name": "stdout",
     "output_type": "stream",
     "text": [
      "SGDRegressor()\n",
      "number of iterations completed: 136, number of weight updates: 13465.0\n"
     ]
    }
   ],
   "source": [
    "# this will create new instance of the Stochastic Gradient Descent method\n",
    "# the number of iterations will 1000\n",
    "# i cann also choose alpha, and other params\n",
    "sgdr = SGDRegressor(max_iter=1000)\n",
    "\n",
    "\n",
    "# this will start fitting, training by the normalized dataset\n",
    "sgdr.fit(X_norm, y_train)\n",
    "print(sgdr)\n",
    "\n",
    "\n",
    "print(f\"number of iterations completed: {sgdr.n_iter_}, number of weight updates: {sgdr.t_}\")"
   ]
  },
  {
   "cell_type": "markdown",
   "metadata": {},
   "source": [
    "### View parameters\n",
    "Note, the parameters are associated with the *normalized* input data. The fit parameters are very close to those found in the previous lab with this data."
   ]
  },
  {
   "cell_type": "code",
   "execution_count": 14,
   "metadata": {},
   "outputs": [
    {
     "name": "stdout",
     "output_type": "stream",
     "text": [
      "model parameters:                   w: [110.28 -21.12 -32.53 -38.04], b:[363.14]\n",
      "model parameters from previous lab: w: [110.56 -21.27 -32.71 -37.97], b:[363.16]\n"
     ]
    }
   ],
   "source": [
    "# this will show the b, bias, intercept\n",
    "b_norm = sgdr.intercept_\n",
    "\n",
    "# this will show the W, weights, coeffcients\n",
    "w_norm = sgdr.coef_\n",
    "\n",
    "\n",
    "# this will comprate the parameters found from sci-kit learn compared to the previous lab which was done manually\n",
    "print(f\"model parameters:                   w: {w_norm}, b:{b_norm}\")\n",
    "print( \"model parameters from previous lab: w: [110.56 -21.27 -32.71 -37.97], b:[363.16]\")"
   ]
  },
  {
   "cell_type": "markdown",
   "metadata": {},
   "source": [
    "### Make predictions\n",
    "Predict the targets of the training data. Use both the `predict` routine and compute using $w$ and $b$."
   ]
  },
  {
   "cell_type": "code",
   "execution_count": 21,
   "metadata": {},
   "outputs": [
    {
     "name": "stdout",
     "output_type": "stream",
     "text": [
      "prediction using np.dot() and sgdr.predict match: True\n",
      "Prediction on training set:\n",
      "[295.13 485.97 389.59 492.13]\n",
      "Target values \n",
      "[300.  509.8 394.  540. ]\n"
     ]
    }
   ],
   "source": [
    "# make a prediction using sgdr.predict()\n",
    "# the W (weights) on this model instance were found using the sgdr.fit(X_norm, y_train)\n",
    "# the dataset will be of shape (99,)\n",
    "# predcition with existing .predict() method\n",
    "y_pred_sgd = sgdr.predict(X_norm)\n",
    "\n",
    "\n",
    "# make a prediction using w,b.\n",
    "# using dot product of x_norm * w_norm + b_norm\n",
    "# prediction with f_wb(X)\n",
    "y_pred = np.dot(X_norm, w_norm) + b_norm  \n",
    "\n",
    "\n",
    "# this will compare if the 2 prediction results match in size\n",
    "# which they match 100% in all elements\n",
    "print(f\"prediction using np.dot() and sgdr.predict match: {(y_pred == y_pred_sgd).all()}\")\n",
    "\n",
    "\n",
    "# comparing the predictions with the original dataset target values\n",
    "print(f\"Prediction on training set:\\n{y_pred[:4]}\" )\n",
    "print(f\"Target values \\n{y_train[:4]}\")"
   ]
  },
  {
   "cell_type": "markdown",
   "metadata": {},
   "source": [
    "### Plot Results\n",
    "Let's plot the predictions versus the target values."
   ]
  },
  {
   "cell_type": "code",
   "execution_count": 16,
   "metadata": {},
   "outputs": [
    {
     "data": {
      "image/png": "[encoded data removed]",
      "text/plain": [
       "<Figure size 864x216 with 4 Axes>"
      ]
     },
     "metadata": {},
     "output_type": "display_data"
    }
   ],
   "source": [
    "# plot predictions and targets vs original features\n",
    "# will create a plot with 4 subplots in 1 row, and they will share y-axis\n",
    "fig,ax=plt.subplots(1,4,figsize=(12,3),sharey=True)\n",
    "\n",
    "# will loop over the subplot\n",
    "for i in range(len(ax)):\n",
    "\n",
    "    # will create a scatter plot representing the actual target value with all rows for each column in the x-axis,\n",
    "    # and for the y-axis it will have the y-train\n",
    "    # the color will be blue\n",
    "    ax[i].scatter(X_train[:,i],y_train, label = 'target')\n",
    "\n",
    "    # the x label will take from X_features list\n",
    "    ax[i].set_xlabel(X_features[i])\n",
    "\n",
    "\n",
    "    # another scatter plot will be created to represnet the predicted target values with all the rows for each column in the x-axis,\n",
    "    # for y-axis it will have the predictions\n",
    "    ax[i].scatter(X_train[:,i],y_pred,color=dlc[\"dlorange\"], label = 'predict')\n",
    "\n",
    "\n",
    "# this will set the y label \"price\" for the entire plot\n",
    "ax[0].set_ylabel(\"Price\"); ax[0].legend();\n",
    "\n",
    "# adding subtitle\n",
    "fig.suptitle(\"target versus prediction using z-score normalized model\")\n",
    "plt.show()"
   ]
  },
  {
   "cell_type": "markdown",
   "metadata": {},
   "source": [
    "## Congratulations!\n",
    "In this lab you:\n",
    "- utilized an open-source machine learning toolkit, scikit-learn\n",
    "- implemented linear regression using gradient descent and feature normalization from that toolkit"
   ]
  },
  {
   "cell_type": "code",
   "execution_count": null,
   "metadata": {},
   "outputs": [],
   "source": []
  }
 ],
 "metadata": {
  "kernelspec": {
   "display_name": "Python 3",
   "language": "python",
   "name": "python3"
  },
  "language_info": {
   "codemirror_mode": {
    "name": "ipython",
    "version": 3
   },
   "file_extension": ".py",
   "mimetype": "text/x-python",
   "name": "python",
   "nbconvert_exporter": "python",
   "pygments_lexer": "ipython3",
   "version": "3.9.10"
  }
 },
 "nbformat": 4,
 "nbformat_minor": 5
}
