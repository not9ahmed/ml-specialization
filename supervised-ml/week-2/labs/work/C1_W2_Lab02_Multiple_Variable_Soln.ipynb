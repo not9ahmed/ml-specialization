{
 "cells": [
  {
   "cell_type": "markdown",
   "metadata": {},
   "source": [
    "# Optional Lab: Multiple Variable Linear Regression\n",
    "\n",
    "In this lab, you will extend the data structures and previously developed routines to support multiple features. Several routines are updated making the lab appear lengthy, but it makes minor adjustments to previous routines making it quick to review.\n",
    "# Outline\n",
    "- [&nbsp;&nbsp;1.1 Goals](#toc_15456_1.1)\n",
    "- [&nbsp;&nbsp;1.2 Tools](#toc_15456_1.2)\n",
    "- [&nbsp;&nbsp;1.3 Notation](#toc_15456_1.3)\n",
    "- [2 Problem Statement](#toc_15456_2)\n",
    "- [&nbsp;&nbsp;2.1 Matrix X containing our examples](#toc_15456_2.1)\n",
    "- [&nbsp;&nbsp;2.2 Parameter vector w, b](#toc_15456_2.2)\n",
    "- [3 Model Prediction With Multiple Variables](#toc_15456_3)\n",
    "- [&nbsp;&nbsp;3.1 Single Prediction element by element](#toc_15456_3.1)\n",
    "- [&nbsp;&nbsp;3.2 Single Prediction, vector](#toc_15456_3.2)\n",
    "- [4 Compute Cost With Multiple Variables](#toc_15456_4)\n",
    "- [5 Gradient Descent With Multiple Variables](#toc_15456_5)\n",
    "- [&nbsp;&nbsp;5.1 Compute Gradient with Multiple Variables](#toc_15456_5.1)\n",
    "- [&nbsp;&nbsp;5.2 Gradient Descent With Multiple Variables](#toc_15456_5.2)\n",
    "- [6 Congratulations](#toc_15456_6)\n"
   ]
  },
  {
   "cell_type": "markdown",
   "metadata": {},
   "source": [
    "<a name=\"toc_15456_1.1\"></a>\n",
    "## 1.1 Goals\n",
    "- Extend our regression model  routines to support multiple features\n",
    "    - Extend data structures to support multiple features\n",
    "    - Rewrite prediction, cost and gradient routines to support multiple features\n",
    "    - Utilize NumPy `np.dot` to vectorize their implementations for speed and simplicity"
   ]
  },
  {
   "cell_type": "markdown",
   "metadata": {},
   "source": [
    "<a name=\"toc_15456_1.2\"></a>\n",
    "## 1.2 Tools\n",
    "In this lab, we will make use of: \n",
    "- NumPy, a popular library for scientific computing\n",
    "- Matplotlib, a popular library for plotting data"
   ]
  },
  {
   "cell_type": "code",
   "execution_count": 1,
   "metadata": {},
   "outputs": [],
   "source": [
    "# importing copy module which create shallow and deep copy of objects, and math library for math operations\n",
    "import copy, math\n",
    "\n",
    "# importing numpy for vectroized implmentations\n",
    "import numpy as np\n",
    "\n",
    "# importing matplot to plot model, gradient descent etc\n",
    "import matplotlib.pyplot as plt\n",
    "\n",
    "# use custom style sheet\n",
    "plt.style.use('./deeplearning.mplstyle')\n",
    "np.set_printoptions(precision=2)  # reduced display precision on numpy arrays"
   ]
  },
  {
   "cell_type": "markdown",
   "metadata": {},
   "source": [
    "<a name=\"toc_15456_1.3\"></a>\n",
    "## 1.3 Notation\n",
    "Here is a summary of some of the notation you will encounter, updated for multiple features.  \n",
    "\n",
    "|General <img width=70/> <br />  Notation  <img width=70/> | Description<img width=350/>| Python (if applicable) |\n",
    "|: ------------|: ------------------------------------------------------------||\n",
    "| $a$ | scalar, non bold                                                      ||\n",
    "| $\\mathbf{a}$ | vector, bold                                                 ||\n",
    "| $\\mathbf{A}$ | matrix, bold capital                                         ||\n",
    "| **Regression** |         |    |     |\n",
    "|  $\\mathbf{X}$ | training example matrix                  | `X_train` |   \n",
    "|  $\\mathbf{y}$  | training example  targets                | `y_train` \n",
    "|  $\\mathbf{x}^{(i)}$, $y^{(i)}$ | $i_{th}$Training Example | `X[i]`, `y[i]`|\n",
    "| m | number of training examples | `m`|\n",
    "| n | number of features in each example | `n`|\n",
    "|  $\\mathbf{w}$  |  parameter: weight,                       | `w`    |\n",
    "|  $b$           |  parameter: bias                                           | `b`    |     \n",
    "| $f_{\\mathbf{w},b}(\\mathbf{x}^{(i)})$ | The result of the model evaluation at $\\mathbf{x^{(i)}}$ parameterized by $\\mathbf{w},b$: $f_{\\mathbf{w},b}(\\mathbf{x}^{(i)}) = \\mathbf{w} \\cdot \\mathbf{x}^{(i)}+b$  | `f_wb` | \n"
   ]
  },
  {
   "cell_type": "markdown",
   "metadata": {},
   "source": [
    "<a name=\"toc_15456_2\"></a>\n",
    "# 2 Problem Statement\n",
    "\n",
    "You will use the motivating example of housing price prediction. The training dataset contains three examples with four features (size, bedrooms, floors and, age) shown in the table below.  Note that, unlike the earlier labs, size is in sqft rather than 1000 sqft. This causes an issue, which you will solve in the next lab!\n",
    "\n",
    "| Size (sqft) | Number of Bedrooms  | Number of floors | Age of  Home | Price (1000s dollars)  |   \n",
    "| ----------------| ------------------- |----------------- |--------------|-------------- |  \n",
    "| 2104            | 5                   | 1                | 45           | 460           |  \n",
    "| 1416            | 3                   | 2                | 40           | 232           |  \n",
    "| 852             | 2                   | 1                | 35           | 178           |  \n",
    "\n",
    "You will build a linear regression model using these values so you can then predict the price for other houses. For example, a house with 1200 sqft, 3 bedrooms, 1 floor, 40 years old.  \n",
    "\n",
    "Please run the following code cell to create your `X_train` and `y_train` variables."
   ]
  },
  {
   "cell_type": "code",
   "execution_count": 5,
   "metadata": {},
   "outputs": [],
   "source": [
    "# will create a matrix X with dimension  m X n ==> m rows X n columns ==> example X features\n",
    "#      |    $x_(0)    |   x_(1)   |   x_(2)    |   x_(3) |\n",
    "# x^(0)|    \n",
    "# x^(1)|\n",
    "# superscript ==> ^(i) ==> example number\n",
    "# subscript ==> _(j) ==> element\n",
    "X_train = np.array([[2104, 5, 1, 45], [1416, 3, 2, 40], [852, 2, 1, 35]])\n",
    "\n",
    "\n",
    "# will create the column of features y ==> vector\n",
    "y_train = np.array([460, 232, 178])"
   ]
  },
  {
   "cell_type": "markdown",
   "metadata": {},
   "source": [
    "<a name=\"toc_15456_2.1\"></a>\n",
    "## 2.1 Matrix X containing our examples\n",
    "Similar to the table above, examples are stored in a NumPy matrix `X_train`. Each row of the matrix represents one example. When you have $m$ training examples ( $m$ is three in our example), and there are $n$ features (four in our example), $\\mathbf{X}$ is a matrix with dimensions ($m$, $n$) (m rows, n columns).\n",
    "\n",
    "\n",
    "$$\\mathbf{X} = \n",
    "\\begin{pmatrix}\n",
    " x^{(0)}_0 & x^{(0)}_1 & \\cdots & x^{(0)}_{n-1} \\\\ \n",
    " x^{(1)}_0 & x^{(1)}_1 & \\cdots & x^{(1)}_{n-1} \\\\\n",
    " \\cdots \\\\\n",
    " x^{(m-1)}_0 & x^{(m-1)}_1 & \\cdots & x^{(m-1)}_{n-1} \n",
    "\\end{pmatrix}\n",
    "$$\n",
    "notation:\n",
    "- $\\mathbf{x}^{(i)}$ is vector containing example i. $\\mathbf{x}^{(i)}$ $ = (x^{(i)}_0, x^{(i)}_1, \\cdots,x^{(i)}_{n-1})$\n",
    "- $x^{(i)}_j$ is element j in example i. The superscript in parenthesis indicates the example number while the subscript represents an element.  \n",
    "\n",
    "Display the input data."
   ]
  },
  {
   "cell_type": "code",
   "execution_count": 6,
   "metadata": {},
   "outputs": [
    {
     "name": "stdout",
     "output_type": "stream",
     "text": [
      "X Shape: (3, 4), X Type:<class 'numpy.ndarray'>)\n",
      "[[2104    5    1   45]\n",
      " [1416    3    2   40]\n",
      " [ 852    2    1   35]]\n",
      "y Shape: (3,), y Type:<class 'numpy.ndarray'>)\n",
      "[460 232 178]\n"
     ]
    }
   ],
   "source": [
    "# data is stored in numpy array/matrix\n",
    "\n",
    "# X_train shape will be (3, 4) ==> (3 rows, 4 columns) ==> (3 examples, 4 features)\n",
    "# type wil be ndarray\n",
    "print(f\"X Shape: {X_train.shape}, X Type:{type(X_train)})\")\n",
    "print(X_train)\n",
    "\n",
    "\n",
    "# Y_train shape will be (3, ) ==> (3 rows, 1 column) ==> (3 examples targets, )\n",
    "# type wil be ndarray\n",
    "print(f\"y Shape: {y_train.shape}, y Type:{type(y_train)})\")\n",
    "print(y_train)"
   ]
  },
  {
   "cell_type": "markdown",
   "metadata": {},
   "source": [
    "<a name=\"toc_15456_2.2\"></a>\n",
    "## 2.2 Parameter vector w, b\n",
    "\n",
    "* $\\mathbf{w}$ is a vector with $n$ elements.\n",
    "  - Each element contains the parameter associated with one feature.\n",
    "  - in our dataset, n is 4.\n",
    "  - notionally, we draw this as a column vector\n",
    "\n",
    "$$\\mathbf{w} = \\begin{pmatrix}\n",
    "w_0 \\\\ \n",
    "w_1 \\\\\n",
    "\\cdots\\\\\n",
    "w_{n-1}\n",
    "\\end{pmatrix}\n",
    "$$\n",
    "* $b$ is a scalar parameter.  "
   ]
  },
  {
   "cell_type": "markdown",
   "metadata": {},
   "source": [
    "For demonstration, $\\mathbf{w}$ and $b$ will be loaded with some initial selected values that are near the optimal. $\\mathbf{w}$ is a 1-D NumPy vector."
   ]
  },
  {
   "cell_type": "code",
   "execution_count": 7,
   "metadata": {},
   "outputs": [
    {
     "name": "stdout",
     "output_type": "stream",
     "text": [
      "w_init shape: (4,), b_init type: <class 'float'>\n"
     ]
    }
   ],
   "source": [
    "b_init = 785.1811367994083\n",
    "w_init = np.array([ 0.39133535, 18.75376741, -53.36032453, -26.42131618])\n",
    "\n",
    "# w shape will be (4,) (4 rows, 1 column)\n",
    "# b type will scalar/ number\n",
    "print(f\"w_init shape: {w_init.shape}, b_init type: {type(b_init)}\")"
   ]
  },
  {
   "cell_type": "markdown",
   "metadata": {},
   "source": [
    "<a name=\"toc_15456_3\"></a>\n",
    "# 3 Model Prediction With Multiple Variables\n",
    "The model's prediction with multiple variables is given by the linear model:\n",
    "\n",
    "$$ f_{\\mathbf{w},b}(\\mathbf{x}) =  w_0x_0 + w_1x_1 +... + w_{n-1}x_{n-1} + b \\tag{1}$$\n",
    "or in vector notation:\n",
    "$$ f_{\\mathbf{w},b}(\\mathbf{x}) = \\mathbf{w} \\cdot \\mathbf{x} + b  \\tag{2} $$ \n",
    "where $\\cdot$ is a vector `dot product`\n",
    "\n",
    "To demonstrate the dot product, we will implement prediction using (1) and (2)."
   ]
  },
  {
   "cell_type": "markdown",
   "metadata": {},
   "source": [
    "<a name=\"toc_15456_3.1\"></a>\n",
    "## 3.1 Single Prediction element by element\n",
    "Our previous prediction multiplied one feature value by one parameter and added a bias parameter. A direct extension of our previous implementation of prediction to multiple features would be to implement (1) above using loop over each element, performing the multiply with its parameter and then adding the bias parameter at the end.\n"
   ]
  },
  {
   "cell_type": "code",
   "execution_count": 8,
   "metadata": {},
   "outputs": [],
   "source": [
    "def predict_single_loop(x, w, b): \n",
    "    \"\"\"\n",
    "    single predict using linear regression\n",
    "    \n",
    "    Args:\n",
    "      x (ndarray): Shape (n,) example with multiple features\n",
    "      w (ndarray): Shape (n,) model parameters    \n",
    "      b (scalar):  model parameter     \n",
    "      \n",
    "    Returns:\n",
    "      p (scalar):  prediction\n",
    "    \"\"\"\n",
    "\n",
    "    # can also use (length(x))\n",
    "    n = x.shape[0]\n",
    "\n",
    "    # p is for storing final prediction\n",
    "    p = 0\n",
    "    for i in range(n):\n",
    "        \n",
    "        # doing x_i * w_i\n",
    "        p_i = x[i] * w[i]  \n",
    "\n",
    "        # storing to final p\n",
    "        p = p + p_i\n",
    "\n",
    "    # returning the final/total prediction from all W * X vectors\n",
    "    p = p + b                \n",
    "    return p"
   ]
  },
  {
   "cell_type": "code",
   "execution_count": 13,
   "metadata": {},
   "outputs": [
    {
     "name": "stdout",
     "output_type": "stream",
     "text": [
      "x_vec shape (4,), x_vec value: [2104    5    1   45]\n",
      "f_wb shape (), prediction: 459.9999976194083\n"
     ]
    }
   ],
   "source": [
    "# get a row from our training data\n",
    "# will get row and all the columns \":\" this what it means\n",
    "# x^(0) = [2104    5    1   45]\n",
    "x_vec = X_train[0,:]\n",
    "print(f\"x_vec shape {x_vec.shape}, x_vec value: {x_vec}\")\n",
    "\n",
    "# make a prediction\n",
    "# w_init, b_init are from the previous cells\n",
    "# prediction: 459.9999976194083 which close to the first example!\n",
    "f_wb = predict_single_loop(x_vec, w_init, b_init)\n",
    "print(f\"f_wb shape {f_wb.shape}, prediction: {f_wb}\")"
   ]
  },
  {
   "cell_type": "markdown",
   "metadata": {},
   "source": [
    "Note the shape of `x_vec`. It is a 1-D NumPy vector with 4 elements, (4,). The result, `f_wb` is a scalar."
   ]
  },
  {
   "cell_type": "markdown",
   "metadata": {},
   "source": [
    "<a name=\"toc_15456_3.2\"></a>\n",
    "## 3.2 Single Prediction, vector\n",
    "\n",
    "Noting that equation (1) above can be implemented using the dot product as in (2) above. We can make use of vector operations to speed up predictions.\n",
    "\n",
    "Recall from the Python/Numpy lab that NumPy `np.dot()`[[link](https://numpy.org/doc/stable/reference/generated/numpy.dot.html)] can be used to perform a vector dot product. "
   ]
  },
  {
   "cell_type": "code",
   "execution_count": 15,
   "metadata": {},
   "outputs": [],
   "source": [
    "def predict(x, w, b): \n",
    "    \"\"\"\n",
    "    single predict using linear regression\n",
    "    Args:\n",
    "      x (ndarray): Shape (n,) example with multiple features\n",
    "      w (ndarray): Shape (n,) model parameters   \n",
    "      b (scalar):             model parameter \n",
    "      \n",
    "    Returns:\n",
    "      p (scalar):  prediction\n",
    "    \"\"\"\n",
    "    \n",
    "    # vectorized version using numpy\n",
    "    p = np.dot(x, w) + b     \n",
    "    return p    "
   ]
  },
  {
   "cell_type": "code",
   "execution_count": 17,
   "metadata": {},
   "outputs": [
    {
     "name": "stdout",
     "output_type": "stream",
     "text": [
      "x_vec shape (4,), x_vec value: [2104    5    1   45]\n",
      "f_wb shape (), prediction: 459.99999761940825\n"
     ]
    }
   ],
   "source": [
    "# get a row from our training data which is the first example\n",
    "# x^(0) = [2104    5    1   45]\n",
    "x_vec = X_train[0,:]\n",
    "print(f\"x_vec shape {x_vec.shape}, x_vec value: {x_vec}\")\n",
    "\n",
    "# make a prediction\n",
    "# prediction: 459.99999761940825 which is close to the fist example\n",
    "f_wb = predict(x_vec,w_init, b_init)\n",
    "print(f\"f_wb shape {f_wb.shape}, prediction: {f_wb}\")"
   ]
  },
  {
   "cell_type": "markdown",
   "metadata": {},
   "source": [
    "The results and shapes are the same as the previous version which used looping. Going forward, `np.dot` will be used for these operations. The prediction is now a single statement. Most routines will implement it directly rather than calling a separate predict routine."
   ]
  },
  {
   "cell_type": "markdown",
   "metadata": {},
   "source": [
    "<a name=\"toc_15456_4\"></a>\n",
    "# 4 Compute Cost With Multiple Variables\n",
    "The equation for the cost function with multiple variables $J(\\mathbf{w},b)$ is:\n",
    "$$J(\\mathbf{w},b) = \\frac{1}{2m} \\sum\\limits_{i = 0}^{m-1} (f_{\\mathbf{w},b}(\\mathbf{x}^{(i)}) - y^{(i)})^2 \\tag{3}$$ \n",
    "where:\n",
    "$$ f_{\\mathbf{w},b}(\\mathbf{x}^{(i)}) = \\mathbf{w} \\cdot \\mathbf{x}^{(i)} + b  \\tag{4} $$ \n",
    "\n",
    "\n",
    "In contrast to previous labs, $\\mathbf{w}$ and $\\mathbf{x}^{(i)}$ are vectors rather than scalars supporting multiple features."
   ]
  },
  {
   "cell_type": "markdown",
   "metadata": {},
   "source": [
    "Below is an implementation of equations (3) and (4). Note that this uses a *standard pattern for this course* where a for loop over all `m` examples is used."
   ]
  },
  {
   "cell_type": "code",
   "execution_count": 18,
   "metadata": {},
   "outputs": [],
   "source": [
    "def compute_cost(X, y, w, b): \n",
    "    \"\"\"\n",
    "    compute cost\n",
    "    Args:\n",
    "      X (ndarray (m,n)): Data, m examples with n features\n",
    "      y (ndarray (m,)) : target values\n",
    "      w (ndarray (n,)) : model parameters  \n",
    "      b (scalar)       : model parameter\n",
    "      \n",
    "    Returns:\n",
    "      cost (scalar): cost\n",
    "    \"\"\"\n",
    "    # m is the number of rows ==> examples\n",
    "    m = X.shape[0]\n",
    "\n",
    "    # J(w,b) which will be used to store the final/total cost\n",
    "    cost = 0.0\n",
    "\n",
    "    # looping over the examples from 0 till m-1\n",
    "    for i in range(m):\n",
    "        \n",
    "        # this will compute prediction for single row X[0] ==> ([2104  5 1 45] * W[0] weights) + b\n",
    "        f_wb_i = np.dot(X[i], w) + b           #(n,)(n,) = scalar (see np.dot)\n",
    "\n",
    "        # will take ^2 then add up to final cost\n",
    "        cost = cost + (f_wb_i - y[i])**2       #scalar\n",
    "    \n",
    "    # computes the outer sigma statement 1/2m\n",
    "    cost = cost / (2 * m)                      #scalar    \n",
    "    return cost"
   ]
  },
  {
   "cell_type": "code",
   "execution_count": 19,
   "metadata": {},
   "outputs": [
    {
     "name": "stdout",
     "output_type": "stream",
     "text": [
      "Cost at optimal w : 1.5578904880036537e-12\n"
     ]
    }
   ],
   "source": [
    "# Compute and display cost using our pre-chosen optimal parameters.\n",
    "\n",
    "# will take X matrix that represents the examples and features\n",
    "# y vector for the target values\n",
    "# w_init vector, b_init scalar are declared in before cells\n",
    "cost = compute_cost(X_train, y_train, w_init, b_init)\n",
    "print(f'Cost at optimal w : {cost}')"
   ]
  },
  {
   "cell_type": "markdown",
   "metadata": {},
   "source": [
    "**Expected Result**: Cost at optimal w : 1.5578904045996674e-12"
   ]
  },
  {
   "cell_type": "markdown",
   "metadata": {},
   "source": [
    "<a name=\"toc_15456_5\"></a>\n",
    "# 5 Gradient Descent With Multiple Variables\n",
    "Gradient descent for multiple variables:\n",
    "\n",
    "$$\\begin{align*} \\text{repeat}&\\text{ until convergence:} \\; \\lbrace \\newline\\;\n",
    "& w_j = w_j -  \\alpha \\frac{\\partial J(\\mathbf{w},b)}{\\partial w_j} \\tag{5}  \\; & \\text{for j = 0..n-1}\\newline\n",
    "&b\\ \\ = b -  \\alpha \\frac{\\partial J(\\mathbf{w},b)}{\\partial b}  \\newline \\rbrace\n",
    "\\end{align*}$$\n",
    "\n",
    "where, n is the number of features, parameters $w_j$,  $b$, are updated simultaneously and where  \n",
    "\n",
    "$$\n",
    "\\begin{align}\n",
    "\\frac{\\partial J(\\mathbf{w},b)}{\\partial w_j}  &= \\frac{1}{m} \\sum\\limits_{i = 0}^{m-1} (f_{\\mathbf{w},b}(\\mathbf{x}^{(i)}) - y^{(i)})x_{j}^{(i)} \\tag{6}  \\\\\n",
    "\\frac{\\partial J(\\mathbf{w},b)}{\\partial b}  &= \\frac{1}{m} \\sum\\limits_{i = 0}^{m-1} (f_{\\mathbf{w},b}(\\mathbf{x}^{(i)}) - y^{(i)}) \\tag{7}\n",
    "\\end{align}\n",
    "$$\n",
    "* m is the number of training examples in the data set\n",
    "\n",
    "    \n",
    "*  $f_{\\mathbf{w},b}(\\mathbf{x}^{(i)})$ is the model's prediction, while $y^{(i)}$ is the target value\n"
   ]
  },
  {
   "cell_type": "markdown",
   "metadata": {},
   "source": [
    "<a name=\"toc_15456_5.1\"></a>\n",
    "## 5.1 Compute Gradient with Multiple Variables\n",
    "An implementation for calculating the equations (6) and (7) is below. There are many ways to implement this. In this version, there is an\n",
    "- outer loop over all m examples. \n",
    "    - $\\frac{\\partial J(\\mathbf{w},b)}{\\partial b}$ for the example can be computed directly and accumulated\n",
    "    - in a second loop over all n features:\n",
    "        - $\\frac{\\partial J(\\mathbf{w},b)}{\\partial w_j}$ is computed for each $w_j$.\n",
    "   "
   ]
  },
  {
   "cell_type": "code",
   "execution_count": 20,
   "metadata": {},
   "outputs": [],
   "source": [
    "def compute_gradient(X, y, w, b): \n",
    "    \"\"\"\n",
    "    Computes the gradient for linear regression \n",
    "    Args:\n",
    "      X (ndarray (m,n)): Data, m examples with n features\n",
    "      y (ndarray (m,)) : target values\n",
    "      w (ndarray (n,)) : model parameters  \n",
    "      b (scalar)       : model parameter\n",
    "      \n",
    "    Returns:\n",
    "      dj_dw (ndarray (n,)): The gradient of the cost w.r.t. the parameters w. \n",
    "      dj_db (scalar):       The gradient of the cost w.r.t. the parameter b. \n",
    "    \"\"\"\n",
    "    m,n = X.shape           #(number of examples, number of features)\n",
    "\n",
    "    # create np array of zeros with shape (n,0) ==> 1D [0 1 .. n-1], vector\n",
    "    dj_dw = np.zeros((n,))\n",
    "\n",
    "    # scalar for bias\n",
    "    dj_db = 0.\n",
    "\n",
    "    # loop from 0... n-1\n",
    "    for i in range(m):\n",
    "        \n",
    "\n",
    "        # used here to avoid repeating the statement\n",
    "        # compute the error by the expression inside sigma ==> f(x) - y ==> prediction - actual ==> f_wb(x_i) - y_i\n",
    "        # f_wb(x_i) ==> W^(i) * X^(i) + b\n",
    "        # f_wb(x_i) = (np.dot(X[i], w) + b) \n",
    "        err = (np.dot(X[i], w) + b) - y[i]\n",
    "\n",
    "        # for 0 till n-1\n",
    "        # computes the total d/dw J term which is the gradient descent\n",
    "        for j in range(n):                         \n",
    "            \n",
    "            # will take one w gradient derivative (scalar) + one b gradient derivative (scalar) * x_j^(i) which is (scalar)\n",
    "            dj_dw[j] = dj_dw[j] + err * X[i, j]\n",
    "\n",
    "        \n",
    "\n",
    "        # computes the total cost for the bias\n",
    "        dj_db = dj_db + err\n",
    "        \n",
    "    # computes the final gradient for w and b then * 1/m which is outside the sigma expression\n",
    "    dj_dw = dj_dw / m                                \n",
    "    dj_db = dj_db / m                                \n",
    "    \n",
    "    # returns a tupple of bias gradient and weight gradient\n",
    "    return dj_db, dj_dw"
   ]
  },
  {
   "cell_type": "code",
   "execution_count": 21,
   "metadata": {},
   "outputs": [
    {
     "name": "stdout",
     "output_type": "stream",
     "text": [
      "dj_db at initial w,b: -1.673925169143331e-06\n",
      "dj_dw at initial w,b: \n",
      " [-2.73e-03 -6.27e-06 -2.22e-06 -6.92e-05]\n"
     ]
    }
   ],
   "source": [
    "# Compute and display gradient\n",
    "# X_train is matrix for examples and features\n",
    "# y_train is the vector for target values\n",
    "# w_init vector, b_init scalar are declared in before cells\n",
    "tmp_dj_db, tmp_dj_dw = compute_gradient(X_train, y_train, w_init, b_init)\n",
    "print(f'dj_db at initial w,b: {tmp_dj_db}')\n",
    "print(f'dj_dw at initial w,b: \\n {tmp_dj_dw}')"
   ]
  },
  {
   "cell_type": "markdown",
   "metadata": {},
   "source": [
    "**Expected Result**:   \n",
    "dj_db at initial w,b: -1.6739251122999121e-06  \n",
    "dj_dw at initial w,b:   \n",
    " [-2.73e-03 -6.27e-06 -2.22e-06 -6.92e-05]  "
   ]
  },
  {
   "cell_type": "markdown",
   "metadata": {},
   "source": [
    "<a name=\"toc_15456_5.2\"></a>\n",
    "## 5.2 Gradient Descent With Multiple Variables\n",
    "The routine below implements equation (5) above."
   ]
  },
  {
   "cell_type": "code",
   "execution_count": 22,
   "metadata": {},
   "outputs": [],
   "source": [
    "def gradient_descent(X, y, w_in, b_in, cost_function, gradient_function, alpha, num_iters): \n",
    "    \"\"\"\n",
    "    Performs batch gradient descent to learn w and b. Updates w and b by taking \n",
    "    num_iters gradient steps with learning rate alpha\n",
    "    \n",
    "    Args:\n",
    "      X (ndarray (m,n))   : Data, m examples with n features\n",
    "      y (ndarray (m,))    : target values\n",
    "      w_in (ndarray (n,)) : initial model parameters  \n",
    "      b_in (scalar)       : initial model parameter\n",
    "      cost_function       : function to compute cost\n",
    "      gradient_function   : function to compute the gradient\n",
    "      alpha (float)       : Learning rate\n",
    "      num_iters (int)     : number of iterations to run gradient descent\n",
    "      \n",
    "    Returns:\n",
    "      w (ndarray (n,)) : Updated values of parameters \n",
    "      b (scalar)       : Updated value of parameter \n",
    "      \"\"\"\n",
    "    \n",
    "    # An array to store cost J and w's at each iteration primarily for graphing later\n",
    "    J_history = []\n",
    "\n",
    "    # creates a deep copy of the original w_in\n",
    "    w = copy.deepcopy(w_in)  #avoid modifying global w within function\n",
    "\n",
    "    # to store init b\n",
    "    b = b_in\n",
    "    \n",
    "\n",
    "    # will start from 0 till num_iters - 1\n",
    "    for i in range(num_iters):\n",
    "\n",
    "        # Calculate the gradient and update the parameters\n",
    "        # will call the function compute_gradient which return gradient for w and b\n",
    "        dj_db, dj_dw = gradient_function(X, y, w, b)   ##None\n",
    "\n",
    "\n",
    "        # Update Parameters using w, b, alpha and gradient\n",
    "        # this will update the parameters w, b\n",
    "        w = w - alpha * dj_dw               ##None\n",
    "        b = b - alpha * dj_db               ##None\n",
    "      \n",
    "\n",
    "        # Save cost J at each iteration\n",
    "        # compute_cost call to compute the cost function by calling \n",
    "        # then add it to to J_history array for plotting\n",
    "        if i<100000:      # prevent resource exhaustion \n",
    "            J_history.append( cost_function(X, y, w, b))\n",
    "\n",
    "\n",
    "        # Print cost every at intervals 10 times or as many iterations if < 10\n",
    "        # num_iters = 1000\n",
    "        # (1000/10)= 100\n",
    "        if i% math.ceil(num_iters / 10) == 0:\n",
    "            print(f\"Iteration {i:4d}: Cost {J_history[-1]:8.2f}   \")\n",
    "        \n",
    "    return w, b, J_history #return final w,b and J history for graphing"
   ]
  },
  {
   "cell_type": "markdown",
   "metadata": {},
   "source": [
    "In the next cell you will test the implementation. "
   ]
  },
  {
   "cell_type": "code",
   "execution_count": 26,
   "metadata": {},
   "outputs": [
    {
     "name": "stdout",
     "output_type": "stream",
     "text": [
      "Iteration    0: Cost  2529.46   \n",
      "Iteration  100: Cost   695.99   \n",
      "Iteration  200: Cost   694.92   \n",
      "Iteration  300: Cost   693.86   \n",
      "Iteration  400: Cost   692.81   \n",
      "Iteration  500: Cost   691.77   \n",
      "Iteration  600: Cost   690.73   \n",
      "Iteration  700: Cost   689.71   \n",
      "Iteration  800: Cost   688.70   \n",
      "Iteration  900: Cost   687.69   \n",
      "\n",
      "b,w found by gradient descent: -0.00,[ 0.2   0.   -0.01 -0.07] \n",
      "\n",
      "prediction: 426.19, target value: 460\n",
      "prediction: 286.17, target value: 232\n",
      "prediction: 171.47, target value: 178\n"
     ]
    }
   ],
   "source": [
    "# initialize parameters\n",
    "\n",
    "# wll create np 0 array with same shape as w_init\n",
    "# [0. 0. 0. 0.]\n",
    "initial_w = np.zeros_like(w_init)\n",
    "\n",
    "# self explained\n",
    "initial_b = 0.\n",
    "\n",
    "# some gradient descent settings\n",
    "# will run the gradient this many times\n",
    "iterations = 1000\n",
    "\n",
    "# 0.0000005\n",
    "alpha = 5.0e-7\n",
    "\n",
    "\n",
    "# run gradient descent\n",
    "# returns the optimal w and b\n",
    "# also J_hist which is list of cost\n",
    "w_final, b_final, J_hist = gradient_descent(X_train, y_train, initial_w, initial_b,\n",
    "                                                    compute_cost, compute_gradient, \n",
    "                                                    alpha, iterations)\n",
    "print(f\"\\nb,w found by gradient descent: {b_final:0.2f},{w_final} \\n\")\n",
    "\n",
    "# X_train.shape ==> (3, ) ==> (3 rows, 1 column) ==> 3 examples\n",
    "# _ means ignore the second value\n",
    "m,_ = X_train.shape\n",
    "\n",
    "# will compute the prediction and the actual value by taking the X_train dataset\n",
    "# from the printing it can be seen that it was still not accurate \n",
    "for i in range(m):\n",
    "    print(f\"prediction: {np.dot(X_train[i], w_final) + b_final:0.2f}, target value: {y_train[i]}\")"
   ]
  },
  {
   "cell_type": "markdown",
   "metadata": {},
   "source": [
    "**Expected Result**:    \n",
    "b,w found by gradient descent: -0.00,[ 0.2   0.   -0.01 -0.07]   \n",
    "prediction: 426.19, target value: 460  \n",
    "prediction: 286.17, target value: 232  \n",
    "prediction: 171.47, target value: 178  "
   ]
  },
  {
   "cell_type": "code",
   "execution_count": 38,
   "metadata": {},
   "outputs": [
    {
     "name": "stdout",
     "output_type": "stream",
     "text": [
      "[695.990315835203, 695.979573101264, 695.9688313105621, 695.9580904630129, 695.9473505585346, 695.9366115970407, 695.9258735784491, 695.9151365026752, 695.9044003696362, 695.8936651792473, 695.8829309314256, 695.872197626086, 695.8614652631454, 695.8507338425202, 695.8400033641266, 695.8292738278801, 695.8185452336974, 695.8078175814954, 695.7970908711899, 695.7863651026965, 695.7756402759309, 695.76491639081, 695.754193447253, 695.7434714451714, 695.7327503844836, 695.7220302651052, 695.711311086955, 695.700592849947, 695.6898755539966, 695.6791591990242, 695.6684437849409, 695.657729311666, 695.6470157791151, 695.6363031872074, 695.6255915358547, 695.6148808249744, 695.6041710544852, 695.5934622243018, 695.5827543343413, 695.5720473845181, 695.5613413747514, 695.5506363049539, 695.5399321750466, 695.529228984944, 695.5185267345627, 695.507825423818, 695.4971250526263, 695.4864256209065, 695.4757271285713, 695.4650295755395, 695.4543329617287, 695.4436372870545, 695.4329425514314, 695.4222487547762, 695.4115558970096, 695.4008639780435, 695.390172997797, 695.3794829561847, 695.3687938531222, 695.3581056885309, 695.3474184623229, 695.3367321744148, 695.3260468247273, 695.3153624131702, 695.304678939669, 695.2939964041321, 695.2833148064806, 695.272634146629, 695.2619544244945, 695.251275639995, 695.2405977930457, 695.2299208835634, 695.2192449114644, 695.2085698766673, 695.1978957790865, 695.1872226186423, 695.1765503952438, 695.1658791088134, 695.1552087592685, 695.1445393465234, 695.1338708704944, 695.1232033311012, 695.1125367282548, 695.1018710618796, 695.0912063318877, 695.0805425381963, 695.0698796807218, 695.0592177593826, 695.0485567740919, 695.037896724772, 695.0272376113352, 695.0165794336989, 695.0059221917808, 694.9952658854977, 694.9846105147659, 694.9739560795055, 694.9633025796273, 694.9526500150527, 694.9419983856951, 694.9313476914762, 694.9206979323061, 694.9100491081077, 694.8994012187962, 694.8887542642861, 694.8781082444954, 694.8674631593436, 694.8568190087449, 694.846175792617, 694.8355335108778, 694.8248921634419, 694.8142517502251, 694.8036122711505, 694.7929737261288, 694.7823361150794, 694.7716994379189, 694.7610636945674, 694.7504288849356, 694.7397950089447, 694.7291620665114, 694.7185300575501, 694.707898981981, 694.6972688397204, 694.6866396306833, 694.6760113547898, 694.6653840119551, 694.6547576020959, 694.6441321251281, 694.6335075809722, 694.6228839695444, 694.6122612907579, 694.6016395445366, 694.5910187307896, 694.5803988494395, 694.5697799004016, 694.5591618835941, 694.5485447989321, 694.5379286463354, 694.527313425718, 694.5166991369975, 694.5060857800959, 694.4954733549217, 694.484861861402, 694.4742512994454, 694.4636416689738, 694.453032969904, 694.442425202149, 694.4318183656311, 694.4212124602672, 694.4106074859723, 694.400003442663, 694.3894003302571, 694.3787981486743, 694.3681968978293, 694.3575965776389, 694.3469971880214, 694.3363987288964, 694.3258012001766, 694.3152046017825, 694.3046089336294, 694.2940141956369, 694.283420387721, 694.2728275097988, 694.2622355617855, 694.2516445436023, 694.2410544551648, 694.2304652963913, 694.2198770671961, 694.209289767499, 694.1987033972183, 694.1881179562691, 694.1775334445716, 694.1669498620381, 694.1563672085904, 694.1457854841437, 694.1352046886182, 694.1246248219281, 694.1140458839931, 694.1034678747292, 694.0928907940528, 694.0823146418842, 694.0717394181378, 694.0611651227345, 694.0505917555871, 694.0400193166196, 694.0294478057409, 694.0188772228771, 694.0083075679412, 693.9977388408514, 693.9871710415223, 693.9766041698766, 693.9660382258284, 693.9554732092975, 693.9449091201965, 693.9343459584501, 693.9237837239717, 693.9132224166774, 693.9026620364898, 693.8921025833203, 693.8815440570917, 693.8709864577195, 693.8604297851192, 693.849874039211, 693.8393192199119, 693.8287653271401, 693.8182123608117, 693.8076603208468, 693.7971092071595, 693.7865590196706, 693.7760097582981, 693.7654614229535, 693.7549140135617, 693.7443675300368, 693.7338219722978, 693.7232773402616, 693.7127336338476, 693.7021908529713, 693.6916489975492, 693.6811080675029, 693.6705680627487, 693.6600289832008, 693.6494908287809, 693.6389535994064, 693.6284172949946, 693.6178819154626, 693.6073474607274, 693.5968139307097, 693.5862813253265, 693.575749644492, 693.5652188881276, 693.5546890561482, 693.5441601484757, 693.5336321650246, 693.5231051057123, 693.5125789704616, 693.5020537591859, 693.4915294718011, 693.4810061082288, 693.4704836683887, 693.459962152192, 693.4494415595605, 693.4389218904151, 693.4284031446691, 693.4178853222414, 693.4073684230497, 693.3968524470138, 693.386337394049, 693.375823264077, 693.3653100570104, 693.3547977727727, 693.3442864112784, 693.3337759724437, 693.3232664561916, 693.3127578624357, 693.3022501910963, 693.2917434420903, 693.2812376153378, 693.270732710755, 693.2602287282592, 693.249725667769, 693.2392235292045, 693.2287223124803, 693.218222017516, 693.2077226442292, 693.1972241925397, 693.1867266623625, 693.1762300536199, 693.165734366227, 693.1552396001007, 693.1447457551623, 693.1342528313266, 693.1237608285122, 693.1132697466406, 693.1027795856274, 693.0922903453911, 693.0818020258492, 693.0713146269203, 693.0608281485228, 693.0503425905744, 693.0398579529933, 693.0293742356984, 693.0188914386063, 693.008409561638, 692.9979286047069, 692.987448567735, 692.97696945064, 692.9664912533408, 692.9560139757522, 692.9455376177975, 692.9350621793895, 692.9245876604514, 692.9141140608964, 692.903641380646, 692.8931696196195, 692.8826987777305, 692.8722288549025, 692.8617598510515, 692.8512917660968, 692.8408245999527, 692.8303583525416, 692.8198930237817, 692.8094286135905, 692.7989651218858, 692.7885025485858, 692.7780408936093, 692.7675801568735, 692.7571203382981, 692.7466614378035, 692.7362034553029, 692.7257463907182, 692.7152902439693, 692.7048350149711, 692.6943807036436, 692.683927309904, 692.6734748336711, 692.6630232748639, 692.6525726334006, 692.6421229092001, 692.6316741021815, 692.6212262122591, 692.6107792393578, 692.6003331833917, 692.5898880442792, 692.5794438219397, 692.5690005162918, 692.5585581272557, 692.5481166547474, 692.5376760986857, 692.5272364589897, 692.5167977355758, 692.5063599283673, 692.4959230372779, 692.4854870622286, 692.4750520031386, 692.4646178599249, 692.4541846325055, 692.4437523207989, 692.433320924728, 692.4228904442061, 692.4124608791539, 692.4020322294887, 692.391604495131, 692.381177676, 692.3707517720119, 692.3603267830858, 692.349902709142, 692.3394795500958, 692.3290573058708, 692.3186359763799, 692.308215561547, 692.2977960612889, 692.2873774755209, 692.2769598041688, 692.2665430471429, 692.2561272043699, 692.2457122757633, 692.2352982612434, 692.2248851607279, 692.2144729741362, 692.2040617013877, 692.1936513424012, 692.1832418970938, 692.1728333653855, 692.1624257471973, 692.1520190424426, 692.1416132510459, 692.1312083729191, 692.1208044079873, 692.1104013561672, 692.0999992173769, 692.0895979915376, 692.0791976785636, 692.0687982783787, 692.058399790898, 692.0480022160423, 692.0376055537303, 692.0272098038778, 692.0168149664091, 692.0064210412406, 691.9960280282895, 691.9856359274768, 691.9752447387201, 691.9648544619403, 691.954465097052, 691.9440766439803, 691.9336891026369, 691.9233024729471, 691.9129167548252, 691.9025319481948, 691.8921480529701, 691.8817650690744, 691.871382996423, 691.8610018349365, 691.8506215845335, 691.8402422451346, 691.8298638166553, 691.819486299019, 691.8091096921404, 691.7987339959419, 691.7883592103385, 691.7779853352548, 691.7676123706057, 691.7572403163116, 691.7468691722912, 691.736498938464, 691.7261296147485, 691.7157612010641, 691.7053936973298, 691.6950271034643, 691.6846614193879, 691.674296645017, 691.6639327802735, 691.6535698250759, 691.6432077793423, 691.6328466429926, 691.6224864159462, 691.6121270981224, 691.6017686894396, 691.5914111898174, 691.5810545991748, 691.57069891743, 691.5603441445032, 691.5499902803141, 691.5396373247796, 691.5292852778226, 691.518934139359, 691.5085839093099, 691.4982345875937, 691.4878861741295, 691.4775386688372, 691.4671920716332, 691.4568463824434, 691.4465016011812, 691.4361577277654, 691.42581476212, 691.4154727041606, 691.4051315538082, 691.3947913109806, 691.3844519755972, 691.3741135475793, 691.3637760268448, 691.3534394133125, 691.3431037069046, 691.3327689075354, 691.3224350151298, 691.3121020296018, 691.3017699508749, 691.2914387788655, 691.2811085134954, 691.2707791546832, 691.2604507023472, 691.2501231564087, 691.2397965167848, 691.2294707833971, 691.2191459561647, 691.2088220350048, 691.1984990198398, 691.1881769105862, 691.1778557071651, 691.1675354094956, 691.1572160174996, 691.1468975310928, 691.1365799501956, 691.1262632747284, 691.1159475046097, 691.1056326397617, 691.0953186800998, 691.0850056255457, 691.0746934760218, 691.0643822314408, 691.0540718917259, 691.0437624567999, 691.0334539265765, 691.0231463009794, 691.0128395799253, 691.0025337633373, 690.9922288511301, 690.9819248432283, 690.9716217395479, 690.9613195400099, 690.9510182445324, 690.9407178530379, 690.9304183654435, 690.9201197816718, 690.9098221016385, 690.8995253252662, 690.889229452472, 690.8789344831785, 690.8686404173031, 690.8583472547672, 690.8480549954894, 690.8377636393872, 690.8274731863845, 690.8171836363985, 690.80689498935, 690.7966072451582, 690.786320403742, 690.7760344650229, 690.7657494289195, 690.75546529535, 690.7451820642369, 690.7348997354997, 690.7246183090564, 690.7143377848275, 690.7040581627316, 690.6937794426925, 690.6835016246259, 690.6732247084524, 690.6629486940928, 690.6526735814667, 690.6423993704947, 690.6321260610922, 690.6218536531854, 690.6115821466897, 690.6013115415282, 690.5910418376178, 690.58077303488, 690.570505133233, 690.5602381325981, 690.5499720328943, 690.5397068340459, 690.5294425359651, 690.5191791385759, 690.5089166417985, 690.4986550455527, 690.4883943497598, 690.4781345543338, 690.467875659201, 690.4576176642812, 690.4473605694885, 690.4371043747489, 690.4268490799776, 690.4165946850991, 690.406341190031, 690.396088594695, 690.3858368990077, 690.3755861028895, 690.3653362062646, 690.3550872090492, 690.3448391111666, 690.3345919125309, 690.3243456130696, 690.3141002126973, 690.3038557113358, 690.2936121089056, 690.2833694053267, 690.2731276005194, 690.2628866943996, 690.2526466868948, 690.242407577919, 690.2321693673966, 690.2219320552452, 690.2116956413837, 690.2014601257357, 690.1912255082192, 690.1809917887541, 690.1707589672602, 690.1605270436611, 690.1502960178715, 690.1400658898151, 690.1298366594127, 690.1196083265821, 690.1093808912455, 690.0991543533211, 690.0889287127334, 690.0787039693945, 690.0684801232328, 690.058257174163, 690.0480351221098, 690.0378139669903, 690.0275937087223, 690.0173743472325, 690.0071558824385, 689.9969383142587, 689.9867216426155, 689.9765058674293, 689.966290988616, 689.9560770061031, 689.9458639198045, 689.9356517296452, 689.9254404355419, 689.9152300374167, 689.9050205351914, 689.8948119287825, 689.8846042181121, 689.8743974031009, 689.8641914836725, 689.8539864597407, 689.8437823312288, 689.8335790980603, 689.8233767601508, 689.8131753174239, 689.8029747697997, 689.7927751171934, 689.782576359533, 689.7723784967353, 689.7621815287215, 689.7519854554113, 689.7417902767253, 689.7315959925824, 689.7214026029069, 689.711210107616, 689.7010185066318, 689.6908277998738, 689.6806379872622, 689.6704490687212, 689.6602610441663, 689.6500739135178, 689.6398876767012, 689.6297023336319, 689.6195178842355, 689.6093343284291, 689.5991516661305, 689.5889698972663, 689.5787890217542, 689.5686090395167, 689.5584299504688, 689.5482517545362, 689.5380744516405, 689.5278980416982, 689.5177225246308, 689.5075479003609, 689.4973741688076, 689.4872013298927, 689.4770293835342, 689.4668583296542, 689.4566881681752, 689.4465188990152, 689.4363505220967, 689.4261830373398, 689.4160164446638, 689.4058507439913, 689.3956859352402, 689.3855220183362, 689.3753589931944, 689.3651968597393, 689.3550356178912, 689.3448752675678, 689.334715808694, 689.324557241188, 689.3143995649706, 689.3042427799625, 689.2940868860845, 689.2839318832589, 689.2737777714054, 689.2636245504442, 689.253472220296, 689.2433207808825, 689.233170232125, 689.2230205739439, 689.2128718062581, 689.2027239289891, 689.1925769420599, 689.182430845391, 689.1722856388992, 689.1621413225101, 689.1519978961411, 689.1418553597176, 689.1317137131556, 689.1215729563777, 689.1114330893064, 689.1012941118597, 689.091156023961, 689.0810188255283, 689.0708825164861, 689.0607470967539, 689.0506125662513, 689.0404789249005, 689.0303461726198, 689.0202143093333, 689.010083334964, 688.9999532494286, 688.9898240526489, 688.9796957445463, 688.9695683250426, 688.9594417940554, 688.9493161515121, 688.9391913973272, 688.9290675314256, 688.9189445537271, 688.9088224641536, 688.8987012626222, 688.8885809490588, 688.8784615233827, 688.8683429855142, 688.8582253353769, 688.8481085728882, 688.8379926979718, 688.8278777105476, 688.8177636105369, 688.8076503978587, 688.7975380724403, 688.7874266341963, 688.7773160830501, 688.7672064189223, 688.7570976417361, 688.7469897514114, 688.7368827478707, 688.7267766310293, 688.7166714008157, 688.706567057147, 688.6964635999458, 688.686361029132, 688.6762593446275, 688.6661585463544, 688.6560586342334, 688.645959608185, 688.6358614681297, 688.62576421399, 688.6156678456882, 688.6055723631445, 688.5954777662778, 688.5853840550135, 688.5752912292686, 688.5651992889685, 688.5551082340309, 688.5450180643802, 688.534928779936, 688.5248403806173, 688.5147528663484, 688.5046662370511, 688.4945804926447, 688.484495633052, 688.4744116581957, 688.4643285679908, 688.4542463623662, 688.4441650412392, 688.4340846045308, 688.4240050521653, 688.4139263840599, 688.4038486001417, 688.3937717003238, 688.3836956845353, 688.3736205526952, 688.3635463047249, 688.3534729405428, 688.3434004600741, 688.3333288632384, 688.3232581499584, 688.3131883201548, 688.3031193737498, 688.2930513106629, 688.282984130815, 688.2729178341338, 688.2628524205315, 688.2527878899367, 688.2427242422685, 688.2326614774491, 688.2225995953967, 688.212538596037, 688.2024784792902, 688.1924192450774, 688.18236089332, 688.1723034239402, 688.1622468368583, 688.1521911319948, 688.1421363092769, 688.132082368618, 688.1220293099476, 688.1119771331819, 688.1019258382435, 688.0918754250573, 688.0818258935386, 688.0717772436154, 688.0617294752055, 688.0516825882318, 688.0416365826153, 688.0315914582776, 688.0215472151416, 688.0115038531294, 688.0014613721601, 687.9914197721563, 687.9813790530379, 687.9713392147308, 687.9613002571555, 687.9512621802302, 687.9412249838794, 687.9311886680254, 687.92115323259, 687.9111186774918, 687.9010850026552, 687.8910522080042, 687.8810202934533, 687.8709892589303, 687.860959104355, 687.8509298296477, 687.8409014347327, 687.8308739195321, 687.8208472839641, 687.810821527955, 687.8007966514247, 687.7907726542932, 687.7807495364838, 687.7707272979184, 687.7607059385197, 687.7506854582069, 687.7406658569038, 687.7306471345328, 687.7206292910145, 687.7106123262696, 687.7005962402227, 687.6905810327947, 687.6805667039052, 687.6705532534792, 687.6605406814373, 687.6505289877019, 687.6405181721934, 687.6305082348359, 687.6204991755504, 687.6104909942577, 687.6004836908793, 687.5904772653403, 687.5804717175606, 687.57046704746, 687.5604632549662, 687.5504603399958, 687.5404583024747, 687.5304571423194, 687.5204568594571, 687.5104574538078, 687.5004589252936, 687.4904612738375, 687.480464499361, 687.4704686017827, 687.4604735810317, 687.4504794370224, 687.4404861696826, 687.4304937789312, 687.4205022646889, 687.4105116268848, 687.4005218654329, 687.3905329802587, 687.380544971285, 687.3705578384347, 687.3605715816257, 687.3505862007833, 687.3406016958285, 687.3306180666847, 687.3206353132729, 687.3106534355157, 687.3006724333336, 687.2906923066508, 687.2807130553882, 687.2707346794701, 687.2607571788157, 687.2507805533493, 687.2408048029938, 687.2308299276684, 687.2208559272962, 687.2108828017987, 687.200910551102, 687.1909391751255, 687.1809686737902, 687.1709990470207, 687.1610302947375, 687.1510624168645, 687.1410954133212, 687.1311292840329, 687.1211640289216, 687.1111996479067, 687.1012361409126, 687.0912735078623, 687.0813117486779, 687.071350863279, 687.0613908515884, 687.0514317135348, 687.0414734490317, 687.0315160580076, 687.0215595403793, 687.0116038960747, 687.0016491250134, 686.9916952271177, 686.9817422023076, 686.9717900505138, 686.96183877165, 686.951888365641, 686.9419388324089, 686.9319901718794, 686.9220423839719, 686.9120954686082, 686.9021494257131, 686.8922042552081, 686.8822599570149, 686.8723165310561, 686.8623739772542, 686.8524322955327, 686.8424914858106, 686.8325515480159, 686.8226124820654, 686.8126742878859, 686.8027369653997, 686.7928005145255, 686.7828649351876, 686.7729302273116, 686.7629963908144, 686.7530634256251, 686.7431313316596, 686.7332001088453, 686.7232697571013, 686.7133402763521, 686.7034116665205]\n"
     ]
    },
    {
     "data": {
      "image/png": "[encoded data removed]",
      "text/plain": [
       "<Figure size 864x288 with 2 Axes>"
      ]
     },
     "metadata": {},
     "output_type": "display_data"
    }
   ],
   "source": [
    "# plot cost versus iteration\n",
    "\n",
    "# plt.subplots(number_of_graphs_rows, number_of_graphs_columns, constrained_layout=True, figsize=(row, hight))\n",
    "fig, (ax1, ax2) = plt.subplots(1, 2, constrained_layout=True, figsize=(12, 4))\n",
    "\n",
    "# will plot the cost history complete\n",
    "ax1.plot(J_hist)\n",
    "\n",
    "# J_hist[100:] will return first 100 elements\n",
    "# will plot the last values for cost\n",
    "ax2.plot(100 + np.arange(len(J_hist[100:])), J_hist[100:])\n",
    "\n",
    "# adding title for the 2 charts\n",
    "ax1.set_title(\"Cost vs. iteration\");  ax2.set_title(\"Cost vs. iteration (tail)\")\n",
    "\n",
    "# adding y label for the 2 charts \"Cost\"\n",
    "ax1.set_ylabel('Cost')             ;  ax2.set_ylabel('Cost') \n",
    "\n",
    "# adding x label for the 2 charts \"iteration step\"\n",
    "ax1.set_xlabel('iteration step')   ;  ax2.set_xlabel('iteration step')\n",
    "\n",
    "# shows the charts\n",
    "plt.show()"
   ]
  },
  {
   "cell_type": "markdown",
   "metadata": {},
   "source": [
    "*These results are not inspiring*! Cost is still declining and our predictions are not very accurate. The next lab will explore how to improve on this."
   ]
  },
  {
   "cell_type": "markdown",
   "metadata": {},
   "source": [
    "\n",
    "<a name=\"toc_15456_6\"></a>\n",
    "# 6 Congratulations!\n",
    "In this lab you:\n",
    "- Redeveloped the routines for linear regression, now with multiple variables.\n",
    "- Utilized NumPy `np.dot` to vectorize the implementations"
   ]
  }
 ],
 "metadata": {
  "dl_toc_settings": {
   "rndtag": "15456"
  },
  "kernelspec": {
   "display_name": "Python 3",
   "language": "python",
   "name": "python3"
  },
  "language_info": {
   "codemirror_mode": {
    "name": "ipython",
    "version": 3
   },
   "file_extension": ".py",
   "mimetype": "text/x-python",
   "name": "python",
   "nbconvert_exporter": "python",
   "pygments_lexer": "ipython3",
   "version": "3.9.10"
  },
  "toc-autonumbering": false
 },
 "nbformat": 4,
 "nbformat_minor": 5
}
